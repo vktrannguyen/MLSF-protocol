{
 "cells": [
  {
   "cell_type": "markdown",
   "id": "1e531b59",
   "metadata": {},
   "source": [
    "# Clustering compounds based on the similarity of their Morgan fingerprints"
   ]
  },
  {
   "cell_type": "markdown",
   "id": "6b35df43",
   "metadata": {},
   "source": [
    "Please cite our *Nature Protocols* paper, which features this Jupyter notebook: \n",
    "\n",
    "Tran-Nguyen, V. K., Junaid, M., Simeon, S. & Ballester, P. J. A practical guide to machine-learning scoring for structure-based virtual screening. *Nat. Protoc.* **18**, 3460–3511 (2023)\n",
    "\n",
    "This is a Jupyter notebook that helps users cluster compounds based on the similarity of their Morgan fingerprints. Please refer to our Nature Protocols paper cited above for more information."
   ]
  },
  {
   "cell_type": "markdown",
   "id": "8cd6f28e",
   "metadata": {},
   "source": [
    "## 1. Install all required Python dependencies"
   ]
  },
  {
   "cell_type": "markdown",
   "id": "310c1c28",
   "metadata": {},
   "source": [
    "Several Python dependencies have to be installed beforehand: set up your protocol-env environment using conda and the yml file protocol-env.yml (downloaded from our github repository). "
   ]
  },
  {
   "cell_type": "code",
   "execution_count": null,
   "id": "3f684111",
   "metadata": {},
   "outputs": [],
   "source": [
    "import oddt.pandas as opd\n",
    "from oddt.pandas import ChemDataFrame\n",
    "from rdkit import DataStructs\n",
    "from rdkit import Chem\n",
    "import pandas as pd\n",
    "from rdkit.Chem.PandasTools import RenderImagesInAllDataFrames\n",
    "from rdkit.Chem import AllChem"
   ]
  },
  {
   "cell_type": "markdown",
   "id": "a44fccd9",
   "metadata": {},
   "source": [
    "## 2. Load input structures of all compounds "
   ]
  },
  {
   "cell_type": "markdown",
   "id": "42e82474",
   "metadata": {},
   "source": [
    "Input compounds are provided in sdf for this notebook."
   ]
  },
  {
   "cell_type": "code",
   "execution_count": null,
   "id": "aaba28a3",
   "metadata": {},
   "outputs": [],
   "source": [
    "# STEP 2.1: Define a function to load all input structures:\n",
    "\n",
    "def LoadSDF(filename, idName='ID', molColName='ROMol', includeFingerprints=False,\n",
    "            isomericSmiles=True, smilesName=None, embedProps=False, removeHs=True,\n",
    "            strictParsing=True, sanitize=False):\n",
    "    \n",
    "    # Read the input sdf and return as Pandas data frame.\n",
    "    # If embedProps=True, all properties will also get embedded in Mol objects in the molecule column.\n",
    "    # If molColName=None, molecules will not be present in the resulting DataFrame (only properties will be read).\n",
    "    \n",
    "    if isinstance(filename, str):\n",
    "        if filename.lower()[-3:] == \".gz\":\n",
    "            import gzip\n",
    "            f = gzip.open(filename, \"rb\")\n",
    "        else:\n",
    "            f = open(filename, 'rb')\n",
    "        close = f.close\n",
    "    else:\n",
    "        f = filename\n",
    "        close = None\n",
    "    records = []\n",
    "    indices = []\n",
    "    for i, mol in enumerate(\n",
    "        Chem.ForwardSDMolSupplier(f, sanitize=False, removeHs=removeHs,\n",
    "                                  strictParsing=strictParsing)):\n",
    "        if not sanitize:\n",
    "            Chem.SanitizeMol(mol, Chem.SanitizeFlags.SANITIZE_FINDRADICALS |\n",
    "                             Chem.SanitizeFlags.SANITIZE_KEKULIZE |\n",
    "                             Chem.SanitizeFlags.SANITIZE_SETAROMATICITY |\n",
    "                             Chem.SanitizeFlags.SANITIZE_SETCONJUGATION |\n",
    "                             Chem.SanitizeFlags.SANITIZE_SETHYBRIDIZATION |\n",
    "                             Chem.SanitizeFlags.SANITIZE_SYMMRINGS,\n",
    "                             catchErrors=True)\n",
    "        if mol is None:\n",
    "            print(i)\n",
    "            continue\n",
    "        row = dict((k, mol.GetProp(k)) for k in mol.GetPropNames())\n",
    "        if molColName is not None and not embedProps:\n",
    "            for prop in mol.GetPropNames():\n",
    "                mol.ClearProp(prop)\n",
    "        if mol.HasProp('_Name'):\n",
    "            row[idName] = mol.GetProp('_Name')\n",
    "        if smilesName is not None:\n",
    "            try:\n",
    "                row[smilesName] = Chem.MolToSmiles(\n",
    "                    mol, isomericSmiles=isomericSmiles)\n",
    "            except:\n",
    "                log.warning(\n",
    "                    'No valid smiles could be generated for molecule %s', i)\n",
    "                row[smilesName] = None\n",
    "        if molColName is not None and not includeFingerprints:\n",
    "            row[molColName] = mol\n",
    "        elif molColName is not None:\n",
    "            row[molColName] = _MolPlusFingerprint(mol)\n",
    "        records.append(row)\n",
    "        indices.append(i)\n",
    "\n",
    "    if close is not None:\n",
    "        close()\n",
    "    RenderImagesInAllDataFrames(images=True)\n",
    "    return pd.DataFrame(records, index=indices)"
   ]
  },
  {
   "cell_type": "code",
   "execution_count": null,
   "id": "401f6c93",
   "metadata": {},
   "outputs": [],
   "source": [
    "# STEP 2.2: Load input structures using the function defined above:\n",
    "\n",
    "input_sdf = LoadSDF(\"Provide_the_pathway_to_your_input_sdf\")"
   ]
  },
  {
   "cell_type": "markdown",
   "id": "b3861ae8",
   "metadata": {},
   "source": [
    "## 3. Compute the Morgan fingerprints of all input compounds "
   ]
  },
  {
   "cell_type": "code",
   "execution_count": null,
   "id": "8b66fb18",
   "metadata": {},
   "outputs": [],
   "source": [
    "# Here we compute Morgan fingerprints of radius 2, 2048 bits:\n",
    "\n",
    "fps = list()\n",
    "for mol in input_sdf['ROMol']:\n",
    "    fps.append(AllChem.GetMorganFingerprintAsBitVect(mol, radius = 2, nBits = 2048))\n",
    "\n",
    "input_sdf[\"FP_2048b_r2\"] = fps"
   ]
  },
  {
   "cell_type": "markdown",
   "id": "5e0fa8e4",
   "metadata": {},
   "source": [
    "## 4. Calculate the Tanimoto similarity of Morgan fingerprints and create a Tanimoto dissimilarity matrix "
   ]
  },
  {
   "cell_type": "code",
   "execution_count": null,
   "id": "c8f26dc4",
   "metadata": {},
   "outputs": [],
   "source": [
    "# Define the function for computing the Tanimoto dissimilarity matrix based on Morgan fingerprints:\n",
    "\n",
    "def tanimoto_distance_matrix(fp_list, cutoff = 0.3):\n",
    "    dissimilarity_matrix = []\n",
    "    for i in range(1, len(fp_list)):\n",
    "        similarities = DataStructs.BulkTanimotoSimilarity(fp_list[i], fp_list[:i])\n",
    "        dissimilarity_matrix.extend([1 - x for x in similarities])\n",
    "    return dissimilarity_matrix\n",
    "\n",
    "dist_matrix_raw = tanimoto_distance_matrix(input_sdf['FP_2048b_r2'])"
   ]
  },
  {
   "cell_type": "markdown",
   "id": "f8c6ab72",
   "metadata": {},
   "source": [
    "## 5. Cluster all compounds based on the Tanimoto (dis)similarity of their Morgan fingerprints "
   ]
  },
  {
   "cell_type": "markdown",
   "id": "fe23395f",
   "metadata": {},
   "source": [
    "Read this paper for more information: https://pubs.acs.org/doi/10.1021/ci9803381."
   ]
  },
  {
   "cell_type": "code",
   "execution_count": null,
   "id": "1dff6588",
   "metadata": {},
   "outputs": [],
   "source": [
    "# Here, molecules having Tanimoto similary of their Morgan fingerprints >= 0.7 will be grouped in the same cluster:\n",
    "\n",
    "from rdkit.ML.Cluster.Butina import ClusterData\n",
    "clusters = ClusterData(dist_matrix_raw, len(input_sdf), 0.3, isDistData = True)"
   ]
  },
  {
   "cell_type": "code",
   "execution_count": null,
   "id": "44333727",
   "metadata": {},
   "outputs": [],
   "source": [
    "from itertools import chain\n",
    "get_index_cluster = []\n",
    "cluster_group = []\n",
    "for i in range(len(clusters)):\n",
    "    index_row = list(clusters[i])\n",
    "    each_cluster = [i] * len(index_row)\n",
    "    get_index_cluster.append(index_row)\n",
    "    cluster_group.append(each_cluster)\n",
    "    \n",
    "index_cluster_list = list(chain.from_iterable(i if isinstance(i, list) else [i] for i in get_index_cluster))\n",
    "res_cluster_group = list(chain.from_iterable(i if isinstance(i, list) else [i] for i in cluster_group))"
   ]
  },
  {
   "cell_type": "code",
   "execution_count": null,
   "id": "9d908eaf",
   "metadata": {},
   "outputs": [],
   "source": [
    "cluster_df = pd.DataFrame({\"Cluster_Group\": list(res_cluster_group), \"Index_Cluster\": list(index_cluster_list)})\n",
    "cluster_df.index = list(cluster_df['Index_Cluster'])\n",
    "df_cluster = pd.merge(input_sdf, cluster_df, left_index = True, right_index = True)\n",
    "df_cluster.to_csv('Provide_the_pathway_to_a_directory_to_store_your_output_clustering_results_in_csv')"
   ]
  }
 ],
 "metadata": {
  "kernelspec": {
   "display_name": "Python 3 (ipykernel)",
   "language": "python",
   "name": "python3"
  },
  "language_info": {
   "codemirror_mode": {
    "name": "ipython",
    "version": 3
   },
   "file_extension": ".py",
   "mimetype": "text/x-python",
   "name": "python",
   "nbconvert_exporter": "python",
   "pygments_lexer": "ipython3",
   "version": "3.7.16"
  }
 },
 "nbformat": 4,
 "nbformat_minor": 5
}
