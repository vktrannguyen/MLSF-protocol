{
 "cells": [
  {
   "cell_type": "markdown",
   "id": "c636ce9b",
   "metadata": {},
   "source": [
    "# A procedure to train and test target-specific machine-learning classifiers for structure-based virtual screening "
   ]
  },
  {
   "cell_type": "markdown",
   "id": "97ab7ee4",
   "metadata": {},
   "source": [
    "Please cite: Tran-Nguyen, V. K. & Ballester, P. J. A practical guide to machine-learning scoring for structure-based virtual screening. Nat. Protoc. (2022)"
   ]
  },
  {
   "cell_type": "markdown",
   "id": "3033e970",
   "metadata": {},
   "source": [
    "This is a user-friendly Jupyter notebook that guides you through different steps to train and evaluate a new target-specific machine-learning classifier for structure-based virtual screening. Please follow the instructions provided herein and in our Nature Protocols paper cited above while you use this notebook."
   ]
  },
  {
   "cell_type": "markdown",
   "id": "8445d641",
   "metadata": {},
   "source": [
    "## 1. Import all necessary Python dependencies"
   ]
  },
  {
   "cell_type": "markdown",
   "id": "e9e89708",
   "metadata": {},
   "source": [
    "Several Python dependencies need to be installed beforehand: set up your protocol-env environment using conda and the yml file protocol-env.yml (downloaded from our github repository) before runnning this Jupyter notebook."
   ]
  },
  {
   "cell_type": "code",
   "execution_count": null,
   "id": "52746c0f",
   "metadata": {},
   "outputs": [],
   "source": [
    "import os\n",
    "import numpy as np\n",
    "import pandas as pd\n",
    "import oddt\n",
    "import oddt.pandas as opd\n",
    "from oddt.pandas import ChemDataFrame\n",
    "from oddt.fingerprints import PLEC\n",
    "from scipy import stats\n",
    "from sklearn import preprocessing\n",
    "from sklearn.svm import SVC\n",
    "from sklearn.ensemble import RandomForestClassifier\n",
    "from sklearn.metrics import matthews_corrcoef, precision_recall_curve, accuracy_score, auc\n",
    "from sklearn.model_selection import cross_val_predict\n",
    "from sklearn.neural_network import MLPClassifier\n",
    "from sklearn.utils import parallel_backend\n",
    "from xgboost.sklearn import XGBClassifier\n",
    "from rdkit import Chem\n",
    "from rdkit.Chem import AllChem\n",
    "import deepchem as dc\n",
    "from deepchem.utils import download_url, load_from_disk\n",
    "from deepchem.utils.vina_utils import prepare_inputs\n",
    "from deepchem.models import AtomicConvModel\n",
    "from deepchem.feat import RdkitGridFeaturizer\n",
    "from joblib import Parallel, delayed\n",
    "from tqdm import tqdm\n",
    "import glob\n",
    "import tempfile\n",
    "import tensorflow as tf\n",
    "from tensorflow import keras\n",
    "from tensorflow.keras import layers, optimizers, regularizers\n",
    "from tensorflow.keras.layers import Dense, BatchNormalization, Dropout, Activation\n",
    "from tensorflow.keras.optimizers import Adadelta, Adam, RMSprop\n",
    "import hyperopt\n",
    "from hyperopt import hp, tpe, Trials, fmin, STATUS_OK, space_eval"
   ]
  },
  {
   "cell_type": "markdown",
   "id": "7b09f8cc",
   "metadata": {},
   "source": [
    "## 2. Load data tables for the training set and the test set "
   ]
  },
  {
   "cell_type": "markdown",
   "id": "e1793373",
   "metadata": {},
   "source": [
    "Each data table (in the csv file format) needs to consist of these columns:\n",
    "\n",
    "- \"mol_name\": provide the identifier (IDs) of each molecule\n",
    "- \"activity\": state whether each molecule is an \"Active\" or an \"Inactive\"\n",
    "- \"potency\": provide the potency value (if available) of each molecule: pIC50, pEC50, pKd, or pKi (all active concentrations in mol/l before logarithmic conversion)\n",
    "\n",
    "More detailed instructions can be found in our Nature Protocols paper cited above.\n",
    "\n",
    "Examples of these csv data files are provided along with this Jupyter notebook on github."
   ]
  },
  {
   "cell_type": "code",
   "execution_count": null,
   "id": "a840bc59",
   "metadata": {},
   "outputs": [],
   "source": [
    "#Provide the pathway to the csv training data file:\n",
    "train_data = pd.read_csv(\"Provide_the_pathway_to_your_csv_training_data_file\")\n",
    "\n",
    "#Provide the pathway to the csv test data file:\n",
    "test_data = pd.read_csv(\"Provide_the_pathway_to_your_csv_test_data_file\")\n",
    "\n",
    "#Call the \"activity\" labels of all training and test molecules:\n",
    "Train_Class = train_data['activity']\n",
    "Test_Class = test_data['activity']"
   ]
  },
  {
   "cell_type": "markdown",
   "id": "57d3f8b3",
   "metadata": {},
   "source": [
    "## 3. Train and evaluate target-specific machine-learning classifiers "
   ]
  },
  {
   "cell_type": "markdown",
   "id": "50071837",
   "metadata": {},
   "source": [
    "Examples given in this notebook involve:\n",
    "\n",
    "- A featurization scheme using protein-ligand extended connectivity (PLEC) fingerprints\n",
    "- Five supervised machine-learning algorithms: random forest (RF), extreme gradient boosting (XGB), support vector machine (SVM), artificial neural network (ANN), and deep neural network (DNN)"
   ]
  },
  {
   "cell_type": "markdown",
   "id": "c6714648",
   "metadata": {},
   "source": [
    "### 3.1. Import training and test molecules along with target structure(s) "
   ]
  },
  {
   "cell_type": "markdown",
   "id": "9f8aec71",
   "metadata": {},
   "source": [
    "\n",
    "- The structures of all docked molecules are in the mol2 (multi-mol2) file format.\n",
    "- The target structure(s) is (are) in the mol2 file format. The target structure for training may be different from that for testing.\n",
    "\n"
   ]
  },
  {
   "cell_type": "code",
   "execution_count": null,
   "id": "afa3505e",
   "metadata": {},
   "outputs": [],
   "source": [
    "#Provide the pathway to the training molecules (mol2 or multi-mol2):\n",
    "train_mol2 = opd.read_mol2(\"Provide_the_pathway_to_the_(multi)mol2_file_of_your_training_molecules\")\n",
    "train_mol2.columns = ['mol', 'mol_name']\n",
    "train = train_mol2.merge(train_data.drop_duplicates(subset = ['mol_name']), how = 'left', on = 'mol_name')\n",
    "\n",
    "#Provide the pathway to the test molecules (mol2 or multi-mol2):\n",
    "test_mol2 = opd.read_mol2(\"Provide_the_pathway_to_the_(multi)mol2_file_of_your_test_molecules\")\n",
    "test_mol2.columns = ['mol', 'mol_name']\n",
    "test = test_mol2.merge(test_data.drop_duplicates(subset = ['mol_name']), how = 'left', on = 'mol_name')\n",
    "\n",
    "#Extract the structures of all training and test molecules:\n",
    "train_mols = train['mol']\n",
    "test_mols = test['mol']\n",
    "\n",
    "#Provide the pathway(s) to the training and set target/receptor structure(s):\n",
    "receptor_train = next(oddt.toolkit.readfile('mol2', 'Provide_the_pathway_to_your_training_receptor_mol2_file'))\n",
    "receptor_test = next(oddt.toolkit.readfile('mol2', 'Provide_the_pathway_to_your_test_receptor_mol2_file'))"
   ]
  },
  {
   "cell_type": "markdown",
   "id": "4a439316",
   "metadata": {},
   "source": [
    "### 3.2. Extract PLEC fingerprints from input data "
   ]
  },
  {
   "cell_type": "code",
   "execution_count": null,
   "id": "dc177cfd",
   "metadata": {},
   "outputs": [],
   "source": [
    "#Users may keep only one of the following two functions if the training target/receptor structure is the same as the test target/receptor structure\n",
    "#Users may change the parameters (size, depth_protein, depth_ligand, distance_cutoff) if they wish\n",
    "def parallel_plec_train(mol):\n",
    "    feature = PLEC(mol, protein = receptor_train, size = 4092, \n",
    "                   depth_protein = 4, depth_ligand = 2,\n",
    "                   distance_cutoff = 4.5, sparse = False)\n",
    "    return feature\n",
    "\n",
    "def parallel_plec_test(mol):\n",
    "    feature = PLEC(mol, protein = receptor_test, size = 4092, \n",
    "                   depth_protein = 4, depth_ligand = 2,\n",
    "                   distance_cutoff = 4.5, sparse = False)\n",
    "    return feature\n",
    "\n",
    "#Users may choose another number of cores (num_cores) that corresponds to their computing resources\n",
    "num_cores = 20\n",
    "train_features = Parallel(n_jobs = num_cores, backend = \"multiprocessing\")(delayed(parallel_plec_train)(mol) for mol in tqdm(train_mols))\n",
    "test_features = Parallel(n_jobs = num_cores, backend = \"multiprocessing\")(delayed(parallel_plec_test)(mol) for mol in tqdm(test_mols))"
   ]
  },
  {
   "cell_type": "markdown",
   "id": "a4239b3f",
   "metadata": {},
   "source": [
    "### 3.3. Train and test the RF algorithm "
   ]
  },
  {
   "cell_type": "code",
   "execution_count": null,
   "id": "54d6fc20",
   "metadata": {},
   "outputs": [],
   "source": [
    "#Train the RF model on the training molecules:\n",
    "rf_plec = RandomForestClassifier(n_estimators = 400, max_features = 'sqrt', n_jobs = 30, random_state = 0)\n",
    "rf_plec.fit(train_features, Train_Class)\n",
    "\n",
    "#Test the RF model on the test molecules:\n",
    "prediction_test_rf_plec_class = rf_plec.predict(test_features)\n",
    "prediction_test_rf_plec_prob = rf_plec.predict_proba(test_features)"
   ]
  },
  {
   "cell_type": "code",
   "execution_count": null,
   "id": "4efa44fe",
   "metadata": {},
   "outputs": [],
   "source": [
    "#Get virtual screening results on the test molecules and export the resulting hit list to a csv file:\n",
    "plec_result_rf = pd.DataFrame({\"Active_Prob\": prediction_test_rf_plec_prob[:, 0],\n",
    "                               \"Inactive_Prob\": prediction_test_rf_plec_prob[:, 1],\n",
    "                               \"Predicted_Class\": prediction_test_rf_plec_class,\n",
    "                               \"Real_Class\": Test_Class})\n",
    "plec_result_rf.to_csv(\"Provide_the_pathway_to_a_directory_to_store_your_csv_hit_list\")\n",
    "\n",
    "#Compute precision, recall values and export the data table:\n",
    "precision_plec_rf, recall_plec_rf, threshold_plec_rf = precision_recall_curve(Test_Class, plec_result_rf['Active_Prob'], pos_label = 'Active')\n",
    "rf_plec_precision_recall = pd.DataFrame({\"Precision\": precision_plec_rf, \"Recall\": recall_plec_rf})\n",
    "rf_plec_precision_recall.to_csv(\"Provide_the_pathway_to_a_directory_to_store_your_csv_precison_recall_data_table\", index = False)"
   ]
  },
  {
   "cell_type": "markdown",
   "id": "e9cb3cef",
   "metadata": {},
   "source": [
    "### 3.4. Train and test the XGB algorithm "
   ]
  },
  {
   "cell_type": "code",
   "execution_count": null,
   "id": "b1a616fc",
   "metadata": {},
   "outputs": [],
   "source": [
    "#Train the XGB model on the training molecules:\n",
    "xgb_plec = XGBClassifier(n_jobs = 40, random_state = 0)\n",
    "xgb_plec.fit(np.array(train_features), Train_Class)\n",
    "\n",
    "#Test the XGB model on the test molecules:\n",
    "prediction_test_xgb_plec_class = xgb_plec.predict(np.array(test_features))\n",
    "prediction_test_xgb_plec_prob = xgb_plec.predict_proba(np.array(test_features))"
   ]
  },
  {
   "cell_type": "code",
   "execution_count": null,
   "id": "7ae00bf9",
   "metadata": {},
   "outputs": [],
   "source": [
    "#Get virtual screening results on the test molecules and export the resulting hit list to a csv file:\n",
    "plec_result_xgb = pd.DataFrame({\"Active_Prob\": prediction_test_xgb_plec_prob[:, 0],\n",
    "                                \"Inactive_Prob\": prediction_test_xgb_plec_prob[:, 1],\n",
    "                                \"Predicted_Class\": prediction_test_xgb_plec_class,\n",
    "                                \"Real_Class\": Test_Class})\n",
    "plec_result_xgb.to_csv(\"Provide_the_pathway_to_a_directory_to_store_your_csv_hit_list\")\n",
    "\n",
    "#Compute precision, recall values and export the data table:\n",
    "precision_plec_xgb, recall_plec_xgb, threshold_plec_xgb = precision_recall_curve(Test_Class, plec_result_xgb['Active_Prob'], pos_label = 'Active')\n",
    "xgb_precision_recall_result = pd.DataFrame({\"Precision\": precision_plec_xgb, \"Recall\": recall_plec_xgb})\n",
    "xgb_precision_recall_result.to_csv(\"Provide_the_pathway_to_a_directory_to_store_your_csv_precison_recall_data_table\", index = False)"
   ]
  },
  {
   "cell_type": "markdown",
   "id": "4fc5c4d5",
   "metadata": {},
   "source": [
    "### 3.5. Train and test the SVM algorithm"
   ]
  },
  {
   "cell_type": "code",
   "execution_count": null,
   "id": "83e82d5c",
   "metadata": {},
   "outputs": [],
   "source": [
    "#Train the SVM model on the training molecules:\n",
    "svm_plec = SVC(degree = 3, kernel = \"rbf\", probability = True, random_state = 0)\n",
    "svm_plec.fit(train_features, Train_Class)\n",
    "\n",
    "#Test the SVM model on the test molecules:\n",
    "prediction_test_svm_plec_class = svm_plec.predict(test_features)\n",
    "prediction_test_svm_plec_prob = svm_plec.predict_proba(test_features)"
   ]
  },
  {
   "cell_type": "code",
   "execution_count": null,
   "id": "529edcf4",
   "metadata": {},
   "outputs": [],
   "source": [
    "#Get virtual screening results on the test molecules and export the resulting hit list to a csv file:\n",
    "plec_result_svm  = pd.DataFrame({\"Active_Prob\": prediction_test_svm_plec_prob[:, 0],\n",
    "                                 \"Inactive_Prob\": prediction_test_svm_plec_prob[:, 1],\n",
    "                                 \"Predicted_Class\": prediction_test_svm_plec_class,\n",
    "                                 \"Real_Class\": Test_Class})\n",
    "plec_result_svm.to_csv(\"Provide_the_pathway_to_a_directory_to_store_your_csv_hit_list\")\n",
    "\n",
    "#Compute precision, recall values and export the data table:\n",
    "precision_plec_svm, recall_plec_svm, threshold_plec_svm = precision_recall_curve(Test_Class, plec_result_svm['Active_Prob'], pos_label = 'Active')\n",
    "svm_precision_recall_result = pd.DataFrame({\"Precision\": precision_plec_svm, \"Recall\": recall_plec_svm})\n",
    "svm_precision_recall_result.to_csv(\"Provide_the_pathway_to_a_directory_to_store_your_csv_precison_recall_data_table\", index = False)"
   ]
  },
  {
   "cell_type": "markdown",
   "id": "b45780f3",
   "metadata": {},
   "source": [
    "### 3.6. Train and test the ANN algorithm "
   ]
  },
  {
   "cell_type": "code",
   "execution_count": null,
   "id": "f73839c0",
   "metadata": {},
   "outputs": [],
   "source": [
    "#Train the ANN model on the training molecules:\n",
    "ann_plec = MLPClassifier(max_iter = 9000, random_state = 0)\n",
    "ann_plec.fit(train_features, Train_Class)\n",
    "\n",
    "#Test the ANN model on the test molecules:\n",
    "prediction_test_ann_plec_class = ann_plec.predict(test_features)\n",
    "prediction_test_ann_plec_prob = ann_plec.predict_proba(test_features)"
   ]
  },
  {
   "cell_type": "code",
   "execution_count": null,
   "id": "18dd995c",
   "metadata": {},
   "outputs": [],
   "source": [
    "#Get virtual screening results on the test molecules and export the resulting hit list to a csv file:\n",
    "plec_result_ann = pd.DataFrame({\"Active_Prob\": prediction_test_ann_plec_prob[:, 0],\n",
    "                                \"Inactive_Prob\": prediction_test_ann_plec_prob[:, 1],\n",
    "                                \"Predicted_Class\": prediction_test_ann_plec_class,\n",
    "                                \"Real_Class\": Test_Class})\n",
    "plec_result_ann.to_csv(\"Provide_the_pathway_to_a_directory_to_store_your_csv_hit_list\")\n",
    "\n",
    "#Compute precision, recall values and export the data table:\n",
    "precision_plec_ann, recall_plec_ann, threshold_plec_ann = precision_recall_curve(Test_Class, plec_result_ann['Active_Prob'], pos_label = 'Active')\n",
    "ann_precision_recall_result = pd.DataFrame({\"Precision\": precision_plec_ann, \"Recall\": recall_plec_ann})\n",
    "ann_precision_recall_result.to_csv(\"Provide_the_pathway_to_a_directory_to_store_your_csv_precison_recall_data_table\", index = False)"
   ]
  },
  {
   "cell_type": "markdown",
   "id": "54b3dec5",
   "metadata": {},
   "source": [
    "### 3.7. Train and test the DNN algorithm¶ "
   ]
  },
  {
   "cell_type": "code",
   "execution_count": null,
   "id": "e160c073",
   "metadata": {},
   "outputs": [],
   "source": [
    "#Train the DNN model on the training molecules:\n",
    "Activity_Dict = {\"Active\": 1, \"Inactive\": 0}\n",
    "y_train = [Activity_Dict[item] for item in Train_Class]\n",
    "y_test = [Activity_Dict[item] for item in Test_Class]\n",
    "y_train = np.asarray(y_train).astype(\"float32\")\n",
    "y_test = np.asarray(y_test).astype(\"float32\")\n",
    "tf.random.set_seed(0)\n",
    "dnn_plec = keras.Sequential([\n",
    "    layers.Dense(8192, kernel_regularizer = regularizers.l2(0), activation = \"relu\"),\n",
    "    layers.BatchNormalization(),\n",
    "    layers.Dropout(0),\n",
    "    layers.Dense(4069, activation = \"relu\", kernel_regularizer = regularizers.l2(0)),\n",
    "    layers.BatchNormalization(),\n",
    "    layers.Dense(2048, activation = \"relu\"),\n",
    "    layers.Dropout(0),\n",
    "    layers.Dense(1, activation = \"sigmoid\")\n",
    "])\n",
    "dnn_plec.compile(optimizer = \"rmsprop\", loss = \"binary_crossentropy\", metrics = ['accuracy'])\n",
    "dnn_plec.fit(np.array(train_features), y_train, epochs = 100, batch_size = 500, verbose = False)\n",
    "\n",
    "#Test the DNN model on the test molecules:\n",
    "prediction_test_dnn_plec_prob = dnn_plec.predict(np.array(test_features))\n",
    "prediction_test_dnn_plec_class = [\"Active\" if num >= 0.5 else \"Inactive\" for num in prediction_test_dnn_plec_prob]"
   ]
  },
  {
   "cell_type": "code",
   "execution_count": null,
   "id": "08b274d6",
   "metadata": {},
   "outputs": [],
   "source": [
    "#Get virtual screening results on the test molecules and export the resulting hit list to a csv file:\n",
    "plec_result_dnn = pd.DataFrame({\"Active_Prob\": prediction_test_dnn_plec_prob[:, 0],\n",
    "                                \"Predicted_Class\": prediction_test_dnn_plec_class,\n",
    "                                \"Real_Class\": Test_Class})\n",
    "plec_result_dnn.to_csv(\"Provide_the_pathway_to_a_directory_to_store_your_csv_hit_list\")\n",
    "\n",
    "#Compute precision, recall values and export the data table:\n",
    "precision_plec_dnn, recall_plec_dnn, threshold_plec_dnn = precision_recall_curve(Test_Class, plec_result_dnn['Active_Prob'], pos_label = 'Active')\n",
    "dnn_precision_recall_result = pd.DataFrame({\"Precision\": precision_plec_dnn, \"Recall\": recall_plec_dnn})\n",
    "dnn_precision_recall_result.to_csv(\"Provide_the_pathway_to_a_directory_to_store_your_csv_precison_recall_data_table\", index = False)"
   ]
  }
 ],
 "metadata": {
  "kernelspec": {
   "display_name": "Python 3 (ipykernel)",
   "language": "python",
   "name": "python3"
  },
  "language_info": {
   "codemirror_mode": {
    "name": "ipython",
    "version": 3
   },
   "file_extension": ".py",
   "mimetype": "text/x-python",
   "name": "python",
   "nbconvert_exporter": "python",
   "pygments_lexer": "ipython3",
   "version": "3.7.6"
  }
 },
 "nbformat": 4,
 "nbformat_minor": 5
}
