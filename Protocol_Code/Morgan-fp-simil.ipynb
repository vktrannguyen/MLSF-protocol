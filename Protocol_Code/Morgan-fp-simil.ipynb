{
 "cells": [
  {
   "cell_type": "markdown",
   "id": "83488375",
   "metadata": {},
   "source": [
    "# Computing the Morgan fingerprints of molecules and comparing them "
   ]
  },
  {
   "cell_type": "markdown",
   "id": "9ee819e4",
   "metadata": {},
   "source": [
    "Please cite our *Nature Protocols* paper, which features this Jupyter notebook: \n",
    "\n",
    "Tran-Nguyen, V. K., Junaid, M., Simeon, S. & Ballester, P. J. A practical guide to machine-learning scoring for structure-based virtual screening. *Nat. Protoc.* **18**, 3460–3511 (2023)\n",
    "\n",
    "This is a Jupyter notebook that helps users compute the Morgan fingerprint of a molecule, then calculate the Tanimoto similarity of different molecules' Morgan fingerprints. Please refer to our Nature Protocols paper cited above for more information."
   ]
  },
  {
   "cell_type": "markdown",
   "id": "690b3321",
   "metadata": {},
   "source": [
    "## 1. Install all required Python dependencies "
   ]
  },
  {
   "cell_type": "markdown",
   "id": "977c66aa",
   "metadata": {},
   "source": [
    "Several Python dependencies have to be installed beforehand: set up your protocol-env environment using conda and the yml file protocol-env.yml (downloaded from our github repository). "
   ]
  },
  {
   "cell_type": "code",
   "execution_count": null,
   "id": "6d355a12",
   "metadata": {},
   "outputs": [],
   "source": [
    "import pandas as pd\n",
    "import oddt.pandas as opd\n",
    "from oddt.pandas import ChemDataFrame\n",
    "from rdkit import DataStructs\n",
    "from rdkit import Chem\n",
    "from rdkit.Chem.PandasTools import RenderImagesInAllDataFrames\n",
    "from rdkit.Chem import AllChem\n",
    "import numpy as np"
   ]
  },
  {
   "cell_type": "markdown",
   "id": "c7949a12",
   "metadata": {},
   "source": [
    "## 2. Load input file(s) "
   ]
  },
  {
   "cell_type": "markdown",
   "id": "d09ba5ba",
   "metadata": {},
   "source": [
    "Input compounds are provided in sdf for this notebook.\n",
    "\n",
    "If you have separate files (e.g. training, test): first, use Steps 2.1 and 2.2 to load them separately, concatenate them, and save the resulting concatenated sdf in your computer; then go to Steps 2.3 and 2.4.\n",
    "\n",
    "If you have only one sdf (already concatenated): skip Steps 2.1 and 2.2, go straight to Steps 2.3 and 2.4."
   ]
  },
  {
   "cell_type": "code",
   "execution_count": null,
   "id": "e0169e8e",
   "metadata": {},
   "outputs": [],
   "source": [
    "# STEP 2.1: Load separate sdfs and concatenate them:\n",
    "\n",
    "dataset_1 = opd.read_sdf('Provide_the_pathway_to_your_first_input_sdf')\n",
    "dataset_2 = opd.read_sdf('Provide_the_pathway_to_your_second_input_sdf')\n",
    "dataset = pd.concat([dataset_1, dataset_2])\n",
    "\n",
    "# If users have more than two input sdfs, add them as follows (remove the # before running the code):\n",
    "# dataset_n = opd.read_sdf('Provide_the_pathway_to_your_nth_input_sdf')\n",
    "# dataset = pd.concat([dataset_1, dataset_2, dataset_3, ..., dataset_n])"
   ]
  },
  {
   "cell_type": "code",
   "execution_count": null,
   "id": "6d8b0aa7",
   "metadata": {},
   "outputs": [],
   "source": [
    "# STEP 2.2: Save the previously concatenated sdf in your computer:\n",
    "\n",
    "ChemDataFrame.to_sdf(dataset, \"Provide_the_pathway_to_the_directory_where_your_concatenated_sdf_is_stored\",\n",
    "                     molecule_column = 'mol', columns = list(dataset.columns))"
   ]
  },
  {
   "cell_type": "code",
   "execution_count": null,
   "id": "cdf1b57a",
   "metadata": {},
   "outputs": [],
   "source": [
    "# STEP 2.3: Define a function to load a concatenated sdf:\n",
    "\n",
    "def LoadSDF(filename, idName='ID', molColName='ROMol', includeFingerprints=False,\n",
    "            isomericSmiles=True, smilesName=None, embedProps=False, removeHs=True,\n",
    "            strictParsing=True, sanitize=False):\n",
    "    \n",
    "    # Read the input sdf and return as Pandas data frame.\n",
    "    # If embedProps=True, all properties will also get embedded in Mol objects in the molecule column.\n",
    "    # If molColName=None, molecules will not be present in the resulting DataFrame (only properties will be read).\n",
    "\n",
    "    if isinstance(filename, str):\n",
    "        if filename.lower()[-3:] == \".gz\":\n",
    "            import gzip\n",
    "            f = gzip.open(filename, \"rb\")\n",
    "        else:\n",
    "            f = open(filename, 'rb')\n",
    "        close = f.close\n",
    "    else:\n",
    "        f = filename\n",
    "        close = None\n",
    "    records = []\n",
    "    indices = []\n",
    "    for i, mol in enumerate(\n",
    "        Chem.ForwardSDMolSupplier(f, sanitize=False, removeHs=removeHs,\n",
    "                                  strictParsing=strictParsing)):\n",
    "        if not sanitize:\n",
    "            Chem.SanitizeMol(mol, Chem.SanitizeFlags.SANITIZE_FINDRADICALS |\n",
    "                             Chem.SanitizeFlags.SANITIZE_KEKULIZE |\n",
    "                             Chem.SanitizeFlags.SANITIZE_SETAROMATICITY |\n",
    "                             Chem.SanitizeFlags.SANITIZE_SETCONJUGATION |\n",
    "                             Chem.SanitizeFlags.SANITIZE_SETHYBRIDIZATION |\n",
    "                             Chem.SanitizeFlags.SANITIZE_SYMMRINGS,\n",
    "                             catchErrors=True)\n",
    "        if mol is None:\n",
    "            print(i)\n",
    "            continue\n",
    "        row = dict((k, mol.GetProp(k)) for k in mol.GetPropNames())\n",
    "        if molColName is not None and not embedProps:\n",
    "            for prop in mol.GetPropNames():\n",
    "                mol.ClearProp(prop)\n",
    "        if mol.HasProp('_Name'):\n",
    "            row[idName] = mol.GetProp('_Name')\n",
    "        if smilesName is not None:\n",
    "            try:\n",
    "                row[smilesName] = Chem.MolToSmiles(\n",
    "                    mol, isomericSmiles=isomericSmiles)\n",
    "            except:\n",
    "                log.warning(\n",
    "                    'No valid smiles could be generated for molecule %s', i)\n",
    "                row[smilesName] = None\n",
    "        if molColName is not None and not includeFingerprints:\n",
    "            row[molColName] = mol\n",
    "        elif molColName is not None:\n",
    "            row[molColName] = _MolPlusFingerprint(mol)\n",
    "        records.append(row)\n",
    "        indices.append(i)\n",
    "\n",
    "    if close is not None:\n",
    "        close()\n",
    "    RenderImagesInAllDataFrames(images=True)\n",
    "    return pd.DataFrame(records, index=indices)"
   ]
  },
  {
   "cell_type": "code",
   "execution_count": null,
   "id": "61596c60",
   "metadata": {},
   "outputs": [],
   "source": [
    "# STEP 2.4: Load the concatenated sdf using the function defined above:\n",
    "\n",
    "dataset_sdf = LoadSDF(\"Provide_the_pathway_to_the_directory_where_your_concatenated_sdf_is_stored\")"
   ]
  },
  {
   "cell_type": "markdown",
   "id": "c4e52028",
   "metadata": {},
   "source": [
    "## 3. Compute the Morgan fingerprints of input molecules"
   ]
  },
  {
   "cell_type": "code",
   "execution_count": null,
   "id": "4380c067",
   "metadata": {},
   "outputs": [],
   "source": [
    "# Here we compute Morgan fingerprints of radius 2, 2048 bits:\n",
    "\n",
    "fps = list()\n",
    "for mol in dataset_sdf['ROMol']:\n",
    "    fps.append(AllChem.GetMorganFingerprintAsBitVect(mol, radius = 2, nBits = 2048))\n",
    "\n",
    "dataset_sdf[\"FP_2048b_r2\"] = fps"
   ]
  },
  {
   "cell_type": "markdown",
   "id": "2c40f009",
   "metadata": {},
   "source": [
    "## 4. Calculate the Tanimoto similarity of Morgan fingerprints and create a similarity matrix "
   ]
  },
  {
   "cell_type": "code",
   "execution_count": null,
   "id": "dd2fd8cb",
   "metadata": {},
   "outputs": [],
   "source": [
    "size = len(dataset_sdf)\n",
    "similarity_matrix = np.zeros((size, size))\n",
    "\n",
    "idx = 0\n",
    "np_fps = list()\n",
    "for fp in dataset_sdf[\"FP_2048b_r2\"]:\n",
    "    np_fp = np.zeros((1,))\n",
    "    Chem.DataStructs.ConvertToNumpyArray(fp, np_fp)\n",
    "    np_fps.append(np_fp)\n",
    "    # Calculate Tanimoto similarity\n",
    "    similarity = Chem.DataStructs.BulkTanimotoSimilarity(fp, dataset_sdf[\"FP_2048b_r2\"], returnDistance=0)\n",
    "    # Save it to similarity matrix\n",
    "    similarity_matrix[idx] = similarity\n",
    "    idx += 1\n",
    "    \n",
    "df_similarity = pd.DataFrame(similarity_matrix)\n",
    "df_similarity.columns = list(dataset_sdf['ID'])\n",
    "df_similarity.index = list(dataset_sdf['ID'])"
   ]
  },
  {
   "cell_type": "code",
   "execution_count": null,
   "id": "cfaf1c9c",
   "metadata": {},
   "outputs": [],
   "source": [
    "# Save the similarity matrix as a csv:\n",
    "\n",
    "df_similarity.to_csv(\"Provide_the_pathway_to_the_directory_to_store_the_output_similarity_matrix_in_csv\")"
   ]
  }
 ],
 "metadata": {
  "kernelspec": {
   "display_name": "Python 3 (ipykernel)",
   "language": "python",
   "name": "python3"
  },
  "language_info": {
   "codemirror_mode": {
    "name": "ipython",
    "version": 3
   },
   "file_extension": ".py",
   "mimetype": "text/x-python",
   "name": "python",
   "nbconvert_exporter": "python",
   "pygments_lexer": "ipython3",
   "version": "3.7.16"
  }
 },
 "nbformat": 4,
 "nbformat_minor": 5
}
